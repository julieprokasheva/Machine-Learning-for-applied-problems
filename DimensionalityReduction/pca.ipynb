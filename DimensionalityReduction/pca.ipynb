{
 "cells": [
  {
   "cell_type": "markdown",
   "id": "8b7aba9b",
   "metadata": {},
   "source": [
    "### Assignment 8.2 \n",
    "\n",
    "Find the optimal number of components needed to maximize the quality of a solution to a multiclass classification problem based on the MNIST dataset using logistic regression.\n",
    "\n",
    "Your task is to determine which PCA dimension of [1,3,5,10,15,20,30,40,50,60] is optimal for solving the classification problem.\n",
    "\n",
    "In your answer, indicate the value of n_components, at which you got the best result on the test set. By quality we mean accuracy_score."
   ]
  },
  {
   "cell_type": "markdown",
   "id": "0ab200f5",
   "metadata": {},
   "source": [
    "#### Solution"
   ]
  },
  {
   "cell_type": "code",
   "execution_count": 9,
   "id": "eaae4a3e",
   "metadata": {},
   "outputs": [],
   "source": [
    "from sklearn.decomposition import PCA\n",
    "from sklearn.preprocessing import StandardScaler\n",
    "from sklearn.model_selection import train_test_split\n",
    "from sklearn.linear_model import LogisticRegression\n",
    "from sklearn.metrics import accuracy_score\n",
    "from sklearn.datasets import fetch_openml\n",
    "\n",
    "# np.random.seed(42)"
   ]
  },
  {
   "cell_type": "code",
   "execution_count": 10,
   "id": "e1fccbd6",
   "metadata": {},
   "outputs": [
    {
     "data": {
      "image/png": "[encoded data removed]",
      "text/plain": [
       "<Figure size 1440x288 with 5 Axes>"
      ]
     },
     "metadata": {},
     "output_type": "display_data"
    }
   ],
   "source": [
    "mnist = fetch_openml('mnist_784')\n",
    "\n",
    "X_ = mnist.data.to_numpy()\n",
    "y = mnist.target.to_numpy()\n",
    "\n",
    "X_ = X_[:2000]\n",
    "y = y[:2000]\n",
    "\n",
    "plt.figure(figsize=(20,4))\n",
    "\n",
    "for index, (image, label) in enumerate(zip(X_[0:5], y[0:5])):\n",
    "    plt.subplot(1, 5, index + 1)\n",
    "    plt.imshow(np.reshape(image, (28,28)), cmap=plt.cm.gray)\n",
    "    plt.title('Training: %s\\n' % label, fontsize = 20)"
   ]
  },
  {
   "cell_type": "code",
   "execution_count": 11,
   "id": "06ab0d1a-764a-4170-969c-f0ce29497a7a",
   "metadata": {},
   "outputs": [
    {
     "data": {
      "text/plain": [
       "(2000, 784)"
      ]
     },
     "execution_count": 11,
     "metadata": {},
     "output_type": "execute_result"
    }
   ],
   "source": [
    "X_.shape"
   ]
  },
  {
   "cell_type": "code",
   "execution_count": 12,
   "id": "420b83d6",
   "metadata": {},
   "outputs": [],
   "source": [
    "N_COMP = [1,3,5,10,15,20,30,40,50,60] "
   ]
  },
  {
   "cell_type": "code",
   "execution_count": 13,
   "id": "3f8d618e",
   "metadata": {},
   "outputs": [
    {
     "data": {
      "text/plain": [
       "{1: 0.2917,\n",
       " 3: 0.4267,\n",
       " 5: 0.6833,\n",
       " 10: 0.8033,\n",
       " 15: 0.835,\n",
       " 20: 0.8567,\n",
       " 30: 0.875,\n",
       " 40: 0.865,\n",
       " 50: 0.865,\n",
       " 60: 0.8583}"
      ]
     },
     "execution_count": 13,
     "metadata": {},
     "output_type": "execute_result"
    }
   ],
   "source": [
    "scores = {}\n",
    "\n",
    "for n_comp in N_COMP:\n",
    "    X = PCA(n_components=n_comp).fit_transform(X_)\n",
    "    X_train, X_test, y_train, y_test = train_test_split( X, y, test_size=0.3, shuffle=True, random_state=42 )\n",
    "\n",
    "    scaler = StandardScaler()\n",
    "    X_train = scaler.fit_transform(X_train)\n",
    "    X_test = scaler.transform(X_test)\n",
    "\n",
    "    clf = LogisticRegression(max_iter=500, random_state=42)\n",
    "    clf.fit(X_train, y_train)\n",
    "    y_pred = clf.predict(X_test)\n",
    "    scores[n_comp] = round(accuracy_score(y_test, y_pred), 4)\n",
    "    \n",
    "scores"
   ]
  },
  {
   "cell_type": "markdown",
   "id": "22b9e7b9",
   "metadata": {},
   "source": [
    "### Assignment 8.1\n",
    "\n",
    "In this task, we suggest that you independently implement one of the possible algorithms for estimating the optimal (effective) dimension, which is often called the steep slope method.\n",
    "\n",
    "We will work within the framework of the simplest assumptions about the linearity of the original sample (we will assume that the coordinates of objects in the dataset are linearly related with some Gaussian noise), that is, we will work with the PCA algorithm.\n",
    "\n",
    "    1. Download data\n",
    "    2. Write a function Em that implements the above method\n",
    "    3. Find the minimum m such that Em < 0.2\n",
    "\n",
    "In your answer, indicate the found number m."
   ]
  },
  {
   "cell_type": "code",
   "execution_count": 1,
   "id": "f7d042e1",
   "metadata": {},
   "outputs": [],
   "source": [
    "import numpy as np\n",
    "import matplotlib.pyplot as plt\n",
    "\n",
    "plt.style.use('seaborn')\n",
    "plt.rcParams['figure.figsize'] = (5, 3.8)"
   ]
  },
  {
   "cell_type": "code",
   "execution_count": 2,
   "id": "0419fb78",
   "metadata": {},
   "outputs": [],
   "source": [
    "x = np.load('PCA.npy')"
   ]
  },
  {
   "cell_type": "code",
   "execution_count": 3,
   "id": "27a080c9",
   "metadata": {},
   "outputs": [],
   "source": [
    "def Em(sigma: np.array, m: int):\n",
    "    return sigma[m::].sum() / sigma.sum()"
   ]
  },
  {
   "cell_type": "code",
   "execution_count": 4,
   "id": "296fd049",
   "metadata": {},
   "outputs": [],
   "source": [
    "_, s, _ = np.linalg.svd(x)"
   ]
  },
  {
   "cell_type": "code",
   "execution_count": 5,
   "id": "36219a9d",
   "metadata": {},
   "outputs": [],
   "source": [
    "m = np.arange(1, s.size)\n",
    "em = np.array([ Em(s, m_) for m_ in m ])"
   ]
  },
  {
   "cell_type": "code",
   "execution_count": 6,
   "id": "2c0f5a96",
   "metadata": {},
   "outputs": [
    {
     "data": {
      "image/png": "[encoded data removed]",
      "text/plain": [
       "<Figure size 360x273.6 with 1 Axes>"
      ]
     },
     "metadata": {},
     "output_type": "display_data"
    }
   ],
   "source": [
    "plt.scatter(m, em, s=5, color='red')\n",
    "plt.xlabel('m')\n",
    "plt.ylabel('Em')\n",
    "plt.show()"
   ]
  },
  {
   "cell_type": "code",
   "execution_count": 7,
   "id": "08f6eead",
   "metadata": {},
   "outputs": [],
   "source": [
    "ind = np.where(em <= 0.2)[0]"
   ]
  },
  {
   "cell_type": "code",
   "execution_count": 8,
   "id": "86dcb424",
   "metadata": {},
   "outputs": [
    {
     "data": {
      "text/plain": [
       "12"
      ]
     },
     "execution_count": 8,
     "metadata": {},
     "output_type": "execute_result"
    }
   ],
   "source": [
    "m = ind[0] + 1\n",
    "m"
   ]
  }
 ],
 "metadata": {
  "kernelspec": {
   "display_name": "Python 3 (ipykernel)",
   "language": "python",
   "name": "python3"
  },
  "language_info": {
   "codemirror_mode": {
    "name": "ipython",
    "version": 3
   },
   "file_extension": ".py",
   "mimetype": "text/x-python",
   "name": "python",
   "nbconvert_exporter": "python",
   "pygments_lexer": "ipython3",
   "version": "3.8.5"
  }
 },
 "nbformat": 4,
 "nbformat_minor": 5
}
