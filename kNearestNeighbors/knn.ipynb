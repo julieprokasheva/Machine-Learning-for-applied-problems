{
 "cells": [
  {
   "cell_type": "code",
   "execution_count": 1,
   "id": "03323b97-fca2-42ca-888e-08efea00be07",
   "metadata": {},
   "outputs": [],
   "source": [
    "import warnings\n",
    "warnings.simplefilter('ignore')\n",
    "\n",
    "import numpy as np\n",
    "import pandas as pd\n",
    "import sklearn\n",
    "\n",
    "from sklearn.neighbors import KNeighborsClassifier\n",
    "from sklearn.datasets import load_breast_cancer\n",
    "from sklearn.metrics import accuracy_score\n",
    "from sklearn.model_selection import train_test_split"
   ]
  },
  {
   "cell_type": "markdown",
   "id": "a287008b-0fc1-40ed-8f97-af2d08f995d7",
   "metadata": {},
   "source": [
    "#### Assignment 1\n",
    "\n",
    "Write a KNN_classifier class suitable for solving a multiclass classification problem. Implement .fit() and .predict() methods. \n",
    "Note, that you can use only numpy library."
   ]
  },
  {
   "cell_type": "code",
   "execution_count": 2,
   "id": "69588b03-3764-472f-8873-f303022ac2e3",
   "metadata": {},
   "outputs": [],
   "source": [
    "class KNN_classifier:\n",
    "    def __init__(self, n_neighbors: int):\n",
    "        self.K = n_neighbors\n",
    "\n",
    "    def fit(self, X: np.array, y: np.array):\n",
    "        self.X = X\n",
    "        self.y = y\n",
    "        return self\n",
    "\n",
    "    def predict(self, x: np.array):\n",
    "        \n",
    "        predictions = []\n",
    "        \n",
    "        for j in range(x.shape[0]):\n",
    "            \n",
    "            dist = np.array([ np.linalg.norm(self.X[i, :] - x[j, :]) for i in range(self.X.shape[0]) ])\n",
    "            nearest_ind = np.argsort(dist)\n",
    "            \n",
    "            k_neighbours = self.y[nearest_ind][:self.K]\n",
    "            values, counts = np.unique(k_neighbours, return_counts=True)\n",
    "            \n",
    "            predictions.append(values[ np.argmax(counts) ])\n",
    "        \n",
    "        predictions = np.array(predictions)\n",
    "        \n",
    "        return predictions"
   ]
  },
  {
   "cell_type": "markdown",
   "id": "9e1d791f-8f22-408e-b850-df0180aa63e2",
   "metadata": {},
   "source": [
    "#### Assignment 2\n",
    "\n",
    "1. Train the model on the given dataset with two predictors X, Y ('data.csv'). Predict class of the object with predictors (54, 68).\n",
    "2. Use KNeighborsClassifier implemented in sklearn. Find 3 closest neighbors of x=(54,68) and distances to them."
   ]
  },
  {
   "cell_type": "code",
   "execution_count": 3,
   "id": "a1057762-974d-4ad7-9c7b-7196cc8159c9",
   "metadata": {},
   "outputs": [
    {
     "data": {
      "text/html": [
       "<div>\n",
       "<style scoped>\n",
       "    .dataframe tbody tr th:only-of-type {\n",
       "        vertical-align: middle;\n",
       "    }\n",
       "\n",
       "    .dataframe tbody tr th {\n",
       "        vertical-align: top;\n",
       "    }\n",
       "\n",
       "    .dataframe thead th {\n",
       "        text-align: right;\n",
       "    }\n",
       "</style>\n",
       "<table border=\"1\" class=\"dataframe\">\n",
       "  <thead>\n",
       "    <tr style=\"text-align: right;\">\n",
       "      <th></th>\n",
       "      <th>id</th>\n",
       "      <th>X</th>\n",
       "      <th>Y</th>\n",
       "      <th>Class</th>\n",
       "    </tr>\n",
       "  </thead>\n",
       "  <tbody>\n",
       "    <tr>\n",
       "      <th>0</th>\n",
       "      <td>1</td>\n",
       "      <td>30</td>\n",
       "      <td>96</td>\n",
       "      <td>0</td>\n",
       "    </tr>\n",
       "    <tr>\n",
       "      <th>1</th>\n",
       "      <td>2</td>\n",
       "      <td>21</td>\n",
       "      <td>73</td>\n",
       "      <td>0</td>\n",
       "    </tr>\n",
       "  </tbody>\n",
       "</table>\n",
       "</div>"
      ],
      "text/plain": [
       "   id   X   Y  Class\n",
       "0   1  30  96      0\n",
       "1   2  21  73      0"
      ]
     },
     "execution_count": 3,
     "metadata": {},
     "output_type": "execute_result"
    }
   ],
   "source": [
    "data = pd.read_csv('data.csv')\n",
    "data.head(2)"
   ]
  },
  {
   "cell_type": "code",
   "execution_count": 4,
   "id": "ac48a0fe-10af-42b7-9966-3cbed87df091",
   "metadata": {},
   "outputs": [],
   "source": [
    "X = np.array([data['X'], data['Y']]).T\n",
    "y = np.array(data['Class'])\n",
    "z = np.array([54, 68])"
   ]
  },
  {
   "cell_type": "code",
   "execution_count": 5,
   "id": "df7a57c1-4e2a-4523-b6ec-128b320d48c5",
   "metadata": {},
   "outputs": [],
   "source": [
    "model = KNN_classifier(n_neighbors=3).fit(X, y)"
   ]
  },
  {
   "cell_type": "code",
   "execution_count": 6,
   "id": "4b0d87c0-3150-4419-a389-6620de0a4dda",
   "metadata": {},
   "outputs": [
    {
     "name": "stdout",
     "output_type": "stream",
     "text": [
      "Object x = [54 68] belongs to the class 1\n"
     ]
    }
   ],
   "source": [
    "class_prediction = model.predict(z.reshape(1, -1))\n",
    "print(f'Object x = {z} belongs to the class {class_prediction[0]}')"
   ]
  },
  {
   "cell_type": "code",
   "execution_count": 7,
   "id": "53f1a322-a0f8-48d4-bee4-3cbfc5d62426",
   "metadata": {},
   "outputs": [],
   "source": [
    "model = KNeighborsClassifier(n_neighbors=3).fit(X,y)\n",
    "dist, neighs = model.kneighbors(z.reshape(1, -1), 3, return_distance=True)"
   ]
  },
  {
   "cell_type": "code",
   "execution_count": 8,
   "id": "3f56533e-8e7f-49bb-a354-246dfc053ab5",
   "metadata": {},
   "outputs": [
    {
     "name": "stdout",
     "output_type": "stream",
     "text": [
      "ID of 3 nearest neighbours of x = [54 68]: [ 6  5 10]\n",
      "Distance is [14.56  21.401 24.352]\n"
     ]
    }
   ],
   "source": [
    "print(f'ID of 3 nearest neighbours of x = {z}: {neighs[0, :] + 1}')\n",
    "print('Distance is', np.round(dist[0, :],3))"
   ]
  },
  {
   "cell_type": "markdown",
   "id": "228c3394-1d04-40f3-91eb-50d82db5f113",
   "metadata": {},
   "source": [
    "#### Assignment 3\n",
    "\n",
    "Train the model using load_breast_cancer  dataset. Use K = 8. Split the sample into training and test using the train_test_split function from the sklearn.model_selection module so that 0.3 objects fall into the test set. \n",
    "\n",
    "Estimate accuracy of the classification using accuracy_score. Apply KNN method implemented in sklearn and compare accuracies. "
   ]
  },
  {
   "cell_type": "code",
   "execution_count": 9,
   "id": "1f5fc4f9-8a84-4576-882a-d827bc31d3b9",
   "metadata": {},
   "outputs": [],
   "source": [
    "random_seed = 4238\n",
    "np.random.seed(random_seed)\n",
    "\n",
    "X, y = load_breast_cancer(return_X_y=True)\n",
    "X_train, x_test, y_train, y_test = train_test_split(X, y, test_size=0.3, shuffle=True, random_state=42)"
   ]
  },
  {
   "cell_type": "code",
   "execution_count": 10,
   "id": "d8a268ef-52b8-411d-8a23-069ffc40d81f",
   "metadata": {},
   "outputs": [
    {
     "name": "stdout",
     "output_type": "stream",
     "text": [
      "Accuracy of the classification using sklearn: 0.96491\n"
     ]
    }
   ],
   "source": [
    "model_1 = KNeighborsClassifier(n_neighbors=8, p=2)\n",
    "model_1.fit(X_train, y_train)\n",
    "\n",
    "predictions_1 = model_1.predict(x_test)\n",
    "\n",
    "acc_1 = accuracy_score(y_test, predictions_1)\n",
    "print('Accuracy of the classification using sklearn:', round(acc_1, 5))"
   ]
  },
  {
   "cell_type": "code",
   "execution_count": 11,
   "id": "f7e3c732-6e85-43a9-ad5e-91beb04f5c4b",
   "metadata": {},
   "outputs": [
    {
     "name": "stdout",
     "output_type": "stream",
     "text": [
      "Accuracy of the classification using own implementation: 0.96491\n"
     ]
    }
   ],
   "source": [
    "model_2 = KNN_classifier(n_neighbors=8)\n",
    "model_2.fit(X_train, y_train)\n",
    "\n",
    "predictions_2 = model_2.predict(x_test)\n",
    "acc_2 = accuracy_score(y_test, predictions_2)\n",
    "\n",
    "print('Accuracy of the classification using own implementation:', round(acc_2, 5))"
   ]
  },
  {
   "cell_type": "markdown",
   "id": "28ad3b87-c2ee-446e-af7a-fd41e994732a",
   "metadata": {},
   "source": [
    "Accuracy comparison:"
   ]
  },
  {
   "cell_type": "code",
   "execution_count": 12,
   "id": "b506498d-0888-4798-ad2e-d9a7a64797e9",
   "metadata": {},
   "outputs": [
    {
     "data": {
      "text/plain": [
       "0.0"
      ]
     },
     "execution_count": 12,
     "metadata": {},
     "output_type": "execute_result"
    }
   ],
   "source": [
    "acc_1 - acc_2"
   ]
  }
 ],
 "metadata": {
  "kernelspec": {
   "display_name": "Python 3 (ipykernel)",
   "language": "python",
   "name": "python3"
  },
  "language_info": {
   "codemirror_mode": {
    "name": "ipython",
    "version": 3
   },
   "file_extension": ".py",
   "mimetype": "text/x-python",
   "name": "python",
   "nbconvert_exporter": "python",
   "pygments_lexer": "ipython3",
   "version": "3.8.5"
  }
 },
 "nbformat": 4,
 "nbformat_minor": 5
}
