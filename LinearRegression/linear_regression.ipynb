{
 "cells": [
  {
   "cell_type": "markdown",
   "id": "3b679e24-e029-4070-acb8-aeab916f8b8d",
   "metadata": {},
   "source": [
    "## Assignment 1\n",
    "\n",
    "### Part 1\n",
    "\n",
    "Write your own linear regression algorithm."
   ]
  },
  {
   "cell_type": "markdown",
   "id": "b5c4d5ba-67d8-4536-9e50-a91de2c6ae06",
   "metadata": {},
   "source": [
    " #### Solution\n",
    " LinearRegression fits a linear model with coefficients $\\vec{w}$.\n",
    " Here we deal with the set $(\\vec{x_i}, y_i)$, where $\\vec{x}_i$ - vector of features of i-th observation.\n",
    " \n",
    " Model finds approximate dependence $f(x)$ which can be written as\n",
    "  $$f(x) = <\\vec{x}', \\vec{w}>, \\text{ where } \\vec{x}' = (\\vec{x}, 1), \\ \\vec{w} = (w_1,\\dots, w_n, w_0).$$\n"
   ]
  },
  {
   "cell_type": "markdown",
   "id": "2e9bf09e-6414-473d-8660-729205c84f5b",
   "metadata": {},
   "source": [
    "The solution is  $\\vec{w} = (X^TX)^{-1}X\\vec{y}$."
   ]
  },
  {
   "cell_type": "code",
   "execution_count": 1,
   "id": "17423b70-14d6-48c9-aff8-8af84a3000fc",
   "metadata": {},
   "outputs": [],
   "source": [
    "import numpy as np"
   ]
  },
  {
   "cell_type": "code",
   "execution_count": 2,
   "id": "b04414a5-7e96-47ea-818b-3258a73877e9",
   "metadata": {},
   "outputs": [],
   "source": [
    "class LinearRegression:\n",
    "    def __init__(self):\n",
    "        self.coef_ = None\n",
    "        pass\n",
    "\n",
    "    def fit(self, x: np.array, y: np.array):\n",
    "        X = np.c_[ x, np.ones(x.shape[0]) ]\n",
    "        self.coef_  = np.linalg.lstsq(X, y, rcond=None)[0] \n",
    "        return self\n",
    "    \n",
    "    def predict(self, x: np.array):\n",
    "        X = np.c_[ x, np.ones(x.shape[0]) ]\n",
    "        return np.dot(X, self.coef_)"
   ]
  },
  {
   "cell_type": "markdown",
   "id": "a691fdbd-9336-4641-b24e-0569a523aa6e",
   "metadata": {},
   "source": [
    "### Part 2\n",
    "\n",
    "Write a function r2(y_true, y_pred) to calculate the coefficient of determination $R^2$:\n",
    "$$R^2 = 1 - \\frac{D_\\epsilon}{D_y},$$  \n",
    "where $D_\\epsilon$ is a variance of the error, $D_y$ is a variance of the random variable $y$."
   ]
  },
  {
   "cell_type": "code",
   "execution_count": 3,
   "id": "f1b33c99-49e7-4eca-9761-3df0c01fc5a5",
   "metadata": {},
   "outputs": [],
   "source": [
    "def r2(y_true, y_pred):\n",
    "    err = y_true - y_pred\n",
    "    return 1 - err.var() / y_true.var()"
   ]
  },
  {
   "cell_type": "markdown",
   "id": "3654556e-e7dc-4ccd-bed0-c679c9c761a9",
   "metadata": {},
   "source": [
    "### Part 3\n",
    "\n",
    "Among the 5 samples offered to you, find the best and worst in terms of linear regression modeling.\n"
   ]
  },
  {
   "cell_type": "markdown",
   "id": "1d90d7d3-fd5b-41fb-b48c-58f5763e7115",
   "metadata": {},
   "source": [
    "#### Solution\n",
    "\n",
    "Samples can be estimated in terms of $R^2$: the best sample has the highest $R^2$ value and is well described with linear model, while the worst sample has a low $R^2$ value. \n",
    "A low $R^2$ value indicates that the features are chosen incorrectly or the relationship $y = f(x)$ is not linear.\n",
    "\n",
    "Here we calculate $R^2$ score for each sample and then compare them:"
   ]
  },
  {
   "cell_type": "code",
   "execution_count": 4,
   "id": "20f53688-d492-4c06-9b6f-a0d8245f9f69",
   "metadata": {},
   "outputs": [],
   "source": [
    "r2_score = []\n",
    "\n",
    "for sample in range(1, 6):\n",
    "    \n",
    "    filename = f'data/part_3/{sample}.npy'\n",
    "    x, y = np.load(filename)[:, 0],  np.load(filename)[:, 1]\n",
    "    \n",
    "    model = LinearRegression().fit(x.reshape(-1, 1), y)\n",
    "    \n",
    "    y_predict = model.predict(x)\n",
    "    \n",
    "    r2_score.append(r2(y, y_predict))"
   ]
  },
  {
   "cell_type": "code",
   "execution_count": 5,
   "id": "2b8d2b50-587a-4ba0-a39d-733782144ab4",
   "metadata": {},
   "outputs": [
    {
     "name": "stdout",
     "output_type": "stream",
     "text": [
      "The best is sample no. 3 with r2 value 0.944\n",
      "The worst is sample no. 4 with r2 value 0.186\n"
     ]
    }
   ],
   "source": [
    "print(f'The best is sample no. {r2_score.index(max(r2_score)) + 1} with r2 value {round(max(r2_score), 3)}')\n",
    "print(f'The worst is sample no. {r2_score.index(min(r2_score)) + 1} with r2 value {round(min(r2_score), 3)}')"
   ]
  },
  {
   "cell_type": "markdown",
   "id": "5cb24ba8-21de-41dc-bdbd-e735d52aeb56",
   "metadata": {},
   "source": [
    "## Assignment 2\n",
    "\n",
    "As a training set, use the data from the file 'candy-data.csv'. Do not include the following candies: Charleston Chew, Dum Dums. \n",
    "Train the model. Find the predicted value of winpercent for Charleston Chew and Dum Dums.\n",
    "Enter the predicted value of winpercent for a candy with the following parameters: [0, 0, 0, 1, 0, 1, 1, 0, 1, 0.885, 0.649]"
   ]
  },
  {
   "cell_type": "code",
   "execution_count": 6,
   "id": "c1fbe98f-d980-43e4-8bd7-c5ac7caf328d",
   "metadata": {},
   "outputs": [],
   "source": [
    "import pandas as pd"
   ]
  },
  {
   "cell_type": "code",
   "execution_count": 7,
   "id": "91174510-7bf0-4201-8d86-74d1556a4c6e",
   "metadata": {},
   "outputs": [],
   "source": [
    "data = pd.read_csv('data/candy-data.csv')\n",
    "training_data = data[(data['competitorname'] != 'Charleston Chew') & (data['competitorname'] != 'Dum Dums')]"
   ]
  },
  {
   "cell_type": "code",
   "execution_count": 8,
   "id": "3d9eea5b-fd71-414a-9fe4-8c88cc92e4ea",
   "metadata": {},
   "outputs": [],
   "source": [
    "X = training_data.drop(['winpercent', 'competitorname', 'Y'], axis=1).values\n",
    "y = training_data['winpercent'].values"
   ]
  },
  {
   "cell_type": "code",
   "execution_count": 9,
   "id": "10e2def8-0e02-4cb5-8aec-0bfa7ec732a6",
   "metadata": {},
   "outputs": [
    {
     "data": {
      "text/plain": [
       "<__main__.LinearRegression at 0x7f212e854040>"
      ]
     },
     "execution_count": 9,
     "metadata": {},
     "output_type": "execute_result"
    }
   ],
   "source": [
    "linear_model = LinearRegression()\n",
    "linear_model.fit(X, y)"
   ]
  },
  {
   "cell_type": "code",
   "execution_count": 10,
   "id": "299d9ea7-a302-4c06-a6ff-8341c363b909",
   "metadata": {},
   "outputs": [],
   "source": [
    "charles_chew = data[data['competitorname'] == 'Charleston Chew'].drop(['competitorname', 'winpercent', 'Y'], axis=1).values\n",
    "charles_chew_winpercent = linear_model.predict(charles_chew)"
   ]
  },
  {
   "cell_type": "code",
   "execution_count": 11,
   "id": "83485925-35fc-49e4-9e3d-5491a98a1917",
   "metadata": {},
   "outputs": [],
   "source": [
    "dum_dums = data[data['competitorname'] == 'Dum Dums'].drop(['competitorname', 'winpercent', 'Y'], axis=1).values\n",
    "dum_dums_winpercent = linear_model.predict(dum_dums)"
   ]
  },
  {
   "cell_type": "code",
   "execution_count": 12,
   "id": "aff1db12-811c-4093-bf58-c872ba2ab7f8",
   "metadata": {},
   "outputs": [],
   "source": [
    "candy_data = np.array([[0, 0, 0, 1, 0, 1, 1, 0, 1, 0.885, 0.649]])\n",
    "candy_winpercent = linear_model.predict(candy_data)"
   ]
  },
  {
   "cell_type": "code",
   "execution_count": 13,
   "id": "6df344d0-5256-46ff-9dac-7a7962222a81",
   "metadata": {},
   "outputs": [
    {
     "name": "stdout",
     "output_type": "stream",
     "text": [
      "Win Percentage prediction for Charles Chew candies: 70.361 \n",
      "Win Percentage prediction for Dum Dums candies: 50.075 \n",
      "Win Percentage prediction for candies with given parameters: 45.74\n"
     ]
    }
   ],
   "source": [
    "print('Win Percentage prediction for Charles Chew candies:', round(charles_chew_winpercent[0], 3), \n",
    "     '\\nWin Percentage prediction for Dum Dums candies:', round(dum_dums_winpercent[0], 3),\n",
    "     '\\nWin Percentage prediction for candies with given parameters:', round(candy_winpercent[0], 3))"
   ]
  }
 ],
 "metadata": {
  "kernelspec": {
   "display_name": "Python 3 (ipykernel)",
   "language": "python",
   "name": "python3"
  },
  "language_info": {
   "codemirror_mode": {
    "name": "ipython",
    "version": 3
   },
   "file_extension": ".py",
   "mimetype": "text/x-python",
   "name": "python",
   "nbconvert_exporter": "python",
   "pygments_lexer": "ipython3",
   "version": "3.8.5"
  }
 },
 "nbformat": 4,
 "nbformat_minor": 5
}
