{
 "cells": [
  {
   "cell_type": "markdown",
   "id": "d254f32c",
   "metadata": {},
   "source": [
    "### Assignment 10.1\n",
    "\n",
    "Write a class that determines the proximity of users and objects based on SVD decomposition.\n",
    "\n",
    "This requires the implementation of several functions, which are titled in the class template below.\n",
    "\n",
    "\n",
    "    1. _get_svd() function must perform the svd transformation and return the P and Q matrices (see the lecture).\n",
    "\n",
    "    2. get_similar_users() should rank all users in order of proximity to the searched user and return the indexes of the closest ones.\n",
    "\n",
    "    3. get_similar_items() - similar, but with respect to objects. As arguments, the last two functions take (1) the number of similar users and objects whose indexes to return, and (2) the index of the current user or object."
   ]
  },
  {
   "cell_type": "markdown",
   "id": "d3a19e58",
   "metadata": {},
   "source": [
    "#### Solution"
   ]
  },
  {
   "cell_type": "code",
   "execution_count": 1,
   "id": "f5bf9dc0",
   "metadata": {},
   "outputs": [],
   "source": [
    "import warnings\n",
    "warnings.simplefilter('ignore')\n",
    "\n",
    "import numpy as np\n",
    "from numpy.linalg import svd\n",
    "\n",
    "from sklearn.neighbors import NearestNeighbors"
   ]
  },
  {
   "cell_type": "code",
   "execution_count": 2,
   "id": "042030b9",
   "metadata": {},
   "outputs": [],
   "source": [
    "class similaryty_analizer(object):\n",
    "    def __init__(self, R: np.array):\n",
    "        self.R = R\n",
    "        self.n_users = None\n",
    "        self.n_items = None\n",
    "\n",
    "    def _get_svd(self, new_dim: int):\n",
    "        R = self.R\n",
    "        U, S, V = svd(R)\n",
    "\n",
    "        U = U[:, :new_dim]\n",
    "        S = np.diag(S[:new_dim])\n",
    "        V = V[:, :new_dim]\n",
    "\n",
    "        P = np.matmul(U, S)\n",
    "        Q = V\n",
    "        return P, Q\n",
    "\n",
    "    def get_similar_users(self, n_users: int, user_id: int):\n",
    "        self.n_users = n_users\n",
    "        P, _ = self._get_svd(n_users)\n",
    "        user = P[user_id, :]\n",
    "    \n",
    "        nn = NearestNeighbors(n_neighbors=n_users+1)        \n",
    "        nn = nn.fit(P)\n",
    "        \n",
    "        _, neighbours = nn.kneighbors(user.reshape(1, -1), n_users)\n",
    "        neighbours = neighbours[0, :]\n",
    "        \n",
    "        for i in range(n_users):\n",
    "            if neighbours[i] >= user_id:\n",
    "                neighbours[i] += 1\n",
    "                \n",
    "        return neighbours\n",
    "\n",
    "    def get_similar_items(self, n_items: int, item_id: int):\n",
    "        self.n_items = n_items\n",
    "        _, Q = self._get_svd(n_items)\n",
    "        item = Q[item_id, :]\n",
    "        Q = np.delete(Q,(item_id), axis = 0)\n",
    "        \n",
    "        nn = NearestNeighbors(n_neighbors=n_items+1)\n",
    "        nn = nn.fit(Q)\n",
    "        \n",
    "        _, neighbours = nn.kneighbors(item.reshape(1, -1), n_items)\n",
    "        neighbours = neighbours[0, :]\n",
    "        \n",
    "        for i in range(n_items):\n",
    "            if neighbours[i] >= item_id:\n",
    "                neighbours[i] += 1\n",
    "         \n",
    "        return neighbours"
   ]
  },
  {
   "cell_type": "code",
   "execution_count": 3,
   "id": "b71ddfdb",
   "metadata": {},
   "outputs": [
    {
     "data": {
      "text/plain": [
       "array([1])"
      ]
     },
     "execution_count": 3,
     "metadata": {},
     "output_type": "execute_result"
    }
   ],
   "source": [
    "r1 = [1, 0, 0]\n",
    "r2 = [1, 1, 0]\n",
    "r3 = [1, 1, 1]\n",
    "\n",
    "R = np.array([r1, r2, r3])\n",
    "\n",
    "SA = similaryty_analizer(R)\n",
    "n = SA.get_similar_users(1, 0)\n",
    "n"
   ]
  }
 ],
 "metadata": {
  "kernelspec": {
   "display_name": "Python 3 (ipykernel)",
   "language": "python",
   "name": "python3"
  },
  "language_info": {
   "codemirror_mode": {
    "name": "ipython",
    "version": 3
   },
   "file_extension": ".py",
   "mimetype": "text/x-python",
   "name": "python",
   "nbconvert_exporter": "python",
   "pygments_lexer": "ipython3",
   "version": "3.8.5"
  }
 },
 "nbformat": 4,
 "nbformat_minor": 5
}
