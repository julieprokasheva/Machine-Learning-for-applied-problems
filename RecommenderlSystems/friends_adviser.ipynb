{
 "cells": [
  {
   "cell_type": "markdown",
   "id": "31243767",
   "metadata": {},
   "source": [
    "Imagine that you are the founder of a new ambitious startup \"Social Network: Friends\", which proposes to organize the search for new friends by comparing tastes in the field of cinema. Each user registering on the portal is asked to complete a very simple questionnaire. It consists of N films, for each of which one of two ratings is required: 1 if the user can say that he likes the specified film, and 0 otherwise (if he does not like it or the user has not watched it).\n",
    "\n",
    "After filling out the questionnaire, the user receives a list of the most suitable for him in terms of cinematic compatibility."
   ]
  },
  {
   "cell_type": "markdown",
   "id": "c76e074f",
   "metadata": {},
   "source": [
    "### Assignment 10.2\n",
    "\n",
    "Your task is to write the friendadviser class, within which to implement the following methods:\n",
    "\n",
    "\n",
    "     1. The fit(self, R) method, which takes an M×N matrix R as input, where M is the number of registered users of your social network, and N is the number of films in the questionnaire. Matrix element rij is a mark placed by user i in the questionnaire against movie j.\n",
    "     \n",
    "     2. _sim(u1, u2) is a function that calculates the similarity (PMI) of users u1 and u2 by their rating vectors. We recommend using a \"truncated\" version of PMI, which is called score in the lecture.\n",
    "     \n",
    "     3. U_idx(u0, alpha) is a function to find a set of registered users (namely, their indexes) whose tastes are at least equal to the value of alpha with the new user u0.\n",
    "     \n",
    "     4. find_friends(u0, how_many) is a function that finds new friends for user u0 in the number specified by the how_many argument. At the output, we expect to get an array with the indices of such friends. For the sake of convenience, return the indexes in descending order of similarity of interests."
   ]
  },
  {
   "cell_type": "markdown",
   "id": "3827c9a9",
   "metadata": {},
   "source": [
    "#### Solution"
   ]
  },
  {
   "cell_type": "code",
   "execution_count": 1,
   "id": "516fefdd",
   "metadata": {},
   "outputs": [],
   "source": [
    "import numpy as np"
   ]
  },
  {
   "cell_type": "code",
   "execution_count": 2,
   "id": "36619e2e",
   "metadata": {},
   "outputs": [],
   "source": [
    "class friendadviser(object): \n",
    "    def fit(self, R):\n",
    "        self.R = R\n",
    "        self.n_users = R.shape[0]\n",
    "        self.n_items = R.shape[1]\n",
    "        return self\n",
    "    \n",
    "\n",
    "    def _sim(self, u1, u2):\n",
    "        nx, ny = u1.sum(), u2.sum()\n",
    "        n_xy = (u1 * u2).sum()\n",
    "        return n_xy/((nx + 1.e-6) * (ny + 1.e-6)) \n",
    "    \n",
    "  \n",
    "    def U_idx(self, u0, alpha):\n",
    "        sim = np.array([ self._sim(u0, self.R[i, :]) for i in range(self.n_users) ])\n",
    "        idx = np.argsort(sim)[::-1]\n",
    "        ind = np.where(sim[idx] >= alpha)[0]\n",
    "        return idx[ind]\n",
    "    \n",
    "    \n",
    "    def find_friends(self, u0, how_many):\n",
    "        idx = self.U_idx(u0, alpha=0.)\n",
    "        return idx[:how_many]"
   ]
  },
  {
   "cell_type": "markdown",
   "id": "6171320a",
   "metadata": {},
   "source": [
    "An example:"
   ]
  },
  {
   "cell_type": "code",
   "execution_count": 3,
   "id": "bfe6741e",
   "metadata": {},
   "outputs": [],
   "source": [
    "u1 = [1, 0, 0, 1]\n",
    "u2 = [1, 1, 0, 0]\n",
    "u3 = [0, 1, 1, 1]\n",
    "u4 = [0, 0, 0, 0]\n",
    "u5 = [1, 0, 0, 1]\n",
    "\n",
    "u0 = np.array([1, 1, 0, 0])\n",
    "\n",
    "X = np.array([u1, u2, u3, u4, u5])\n",
    "\n",
    "fa = friendadviser().fit(X)"
   ]
  },
  {
   "cell_type": "code",
   "execution_count": 4,
   "id": "b299578f",
   "metadata": {},
   "outputs": [
    {
     "data": {
      "text/plain": [
       "array([1, 4, 0])"
      ]
     },
     "execution_count": 4,
     "metadata": {},
     "output_type": "execute_result"
    }
   ],
   "source": [
    "fa.U_idx(u0, 0.2)"
   ]
  },
  {
   "cell_type": "code",
   "execution_count": 5,
   "id": "ccd8f8b6",
   "metadata": {},
   "outputs": [
    {
     "data": {
      "text/plain": [
       "array([1, 4])"
      ]
     },
     "execution_count": 5,
     "metadata": {},
     "output_type": "execute_result"
    }
   ],
   "source": [
    "fa.find_friends(u0, 2)"
   ]
  }
 ],
 "metadata": {
  "kernelspec": {
   "display_name": "Python 3 (ipykernel)",
   "language": "python",
   "name": "python3"
  },
  "language_info": {
   "codemirror_mode": {
    "name": "ipython",
    "version": 3
   },
   "file_extension": ".py",
   "mimetype": "text/x-python",
   "name": "python",
   "nbconvert_exporter": "python",
   "pygments_lexer": "ipython3",
   "version": "3.8.5"
  }
 },
 "nbformat": 4,
 "nbformat_minor": 5
}
