{
 "cells": [
  {
   "cell_type": "code",
   "execution_count": 1,
   "id": "71250a16",
   "metadata": {},
   "outputs": [
    {
     "name": "stderr",
     "output_type": "stream",
     "text": [
      "<frozen importlib._bootstrap>:219: RuntimeWarning: scipy._lib.messagestream.MessageStream size changed, may indicate binary incompatibility. Expected 56 from C header, got 64 from PyObject\n"
     ]
    }
   ],
   "source": [
    "import pandas as pd\n",
    "import numpy as np\n",
    "\n",
    "np.random.seed(42)\n",
    "\n",
    "from sklearn.tree import DecisionTreeClassifier, DecisionTreeRegressor\n",
    "from sklearn.model_selection import train_test_split, cross_validate\n",
    "from sklearn.preprocessing import LabelEncoder\n",
    "from sklearn.utils import shuffle\n",
    "from sklearn.datasets import load_iris"
   ]
  },
  {
   "cell_type": "markdown",
   "id": "39d21a41",
   "metadata": {},
   "source": [
    "### Assignment 1\n",
    "\n",
    "Train the classifier on the standard Fisher Iris dataset to solve the problem of predicting a flower variety by describing its 4 parameters.\n",
    "\n",
    "1) The training sample should include 60% of all objects randomly selected from the dataset\n",
    "\n",
    "2) The maximum depth of the constructed tree should not exceed 3\n",
    "\n",
    "3) Use the Gini criterion as the branching criterion\n",
    "\n",
    "4) Random state and random seed set to 42\n",
    "\n",
    "As an answer to the problem, indicate the classification quality score on the test sample using accuracy_score"
   ]
  },
  {
   "cell_type": "code",
   "execution_count": 2,
   "id": "b1267f4c",
   "metadata": {},
   "outputs": [],
   "source": [
    "X, y = load_iris(return_X_y=True)\n",
    "\n",
    "X_train, x_test, y_train, y_test = train_test_split(X, y, train_size=0.6, shuffle=True)\n",
    "clf = DecisionTreeClassifier(criterion='gini', max_depth=3, random_state=42)\n",
    "\n",
    "clf.fit(X_train, y_train)\n",
    "preds = clf.predict(x_test)\n",
    "\n",
    "acc = clf.score(x_test, y_test)"
   ]
  },
  {
   "cell_type": "code",
   "execution_count": 3,
   "id": "82a397d3",
   "metadata": {},
   "outputs": [
    {
     "name": "stdout",
     "output_type": "stream",
     "text": [
      "Accuracy score is  0.98\n"
     ]
    }
   ],
   "source": [
    "print('Accuracy score is ', round(acc, 2))"
   ]
  },
  {
   "cell_type": "markdown",
   "id": "1c338aa4",
   "metadata": {},
   "source": [
    "### Assignment 2\n",
    "\n",
    "Train a standard decision tree regressor to solve the problem of predicting the value of a diamond given a set of diamond features. Do data preprocessing, use the 'sklearn.preprocessing.LabelEncoder' class, see documentation for details.\n",
    "\n",
    "Choose the best combination of hyperparameters from the following:\n",
    "\n",
    "    Branching criterion: squared_error, tree depth: 12\n",
    "    Branching criterion: friedman_mse, tree depth: 16\n",
    "    Branching criterion: poisson, tree depth: 22\n",
    "    Branching criterion: squared_error, tree depth: 45\n",
    "    Branching criterion: friedman_mse, tree depth: 95\n",
    "    Branching criterion: poisson, tree depth: 33\n",
    "\n",
    "   The best criterion will be the one that will show the best average quality in terms of the r2 metric in cross-validation with cv=10. Set random state and random seed to 42."
   ]
  },
  {
   "cell_type": "code",
   "execution_count": 4,
   "id": "203652c8",
   "metadata": {},
   "outputs": [
    {
     "data": {
      "text/html": [
       "<div>\n",
       "<style scoped>\n",
       "    .dataframe tbody tr th:only-of-type {\n",
       "        vertical-align: middle;\n",
       "    }\n",
       "\n",
       "    .dataframe tbody tr th {\n",
       "        vertical-align: top;\n",
       "    }\n",
       "\n",
       "    .dataframe thead th {\n",
       "        text-align: right;\n",
       "    }\n",
       "</style>\n",
       "<table border=\"1\" class=\"dataframe\">\n",
       "  <thead>\n",
       "    <tr style=\"text-align: right;\">\n",
       "      <th></th>\n",
       "      <th>carat</th>\n",
       "      <th>cut</th>\n",
       "      <th>color</th>\n",
       "      <th>clarity</th>\n",
       "      <th>depth</th>\n",
       "      <th>table</th>\n",
       "      <th>price</th>\n",
       "      <th>x</th>\n",
       "      <th>y</th>\n",
       "      <th>z</th>\n",
       "    </tr>\n",
       "  </thead>\n",
       "  <tbody>\n",
       "    <tr>\n",
       "      <th>0</th>\n",
       "      <td>0.23</td>\n",
       "      <td>Ideal</td>\n",
       "      <td>E</td>\n",
       "      <td>SI2</td>\n",
       "      <td>61.5</td>\n",
       "      <td>55.0</td>\n",
       "      <td>326</td>\n",
       "      <td>3.95</td>\n",
       "      <td>3.98</td>\n",
       "      <td>2.43</td>\n",
       "    </tr>\n",
       "    <tr>\n",
       "      <th>1</th>\n",
       "      <td>0.21</td>\n",
       "      <td>Premium</td>\n",
       "      <td>E</td>\n",
       "      <td>SI1</td>\n",
       "      <td>59.8</td>\n",
       "      <td>61.0</td>\n",
       "      <td>326</td>\n",
       "      <td>3.89</td>\n",
       "      <td>3.84</td>\n",
       "      <td>2.31</td>\n",
       "    </tr>\n",
       "  </tbody>\n",
       "</table>\n",
       "</div>"
      ],
      "text/plain": [
       "   carat      cut color clarity  depth  table  price     x     y     z\n",
       "0   0.23    Ideal     E     SI2   61.5   55.0    326  3.95  3.98  2.43\n",
       "1   0.21  Premium     E     SI1   59.8   61.0    326  3.89  3.84  2.31"
      ]
     },
     "execution_count": 4,
     "metadata": {},
     "output_type": "execute_result"
    }
   ],
   "source": [
    "data = pd.read_csv('TRAIN.csv')\n",
    "data = data.drop(data.columns[[0]], axis=1)\n",
    "data.head(2)"
   ]
  },
  {
   "cell_type": "markdown",
   "id": "ccb3026a",
   "metadata": {},
   "source": [
    "#### Preprocessing\n",
    "\n",
    "Here we transform categorical features."
   ]
  },
  {
   "cell_type": "code",
   "execution_count": 5,
   "id": "bc42b472",
   "metadata": {},
   "outputs": [
    {
     "data": {
      "text/html": [
       "<div>\n",
       "<style scoped>\n",
       "    .dataframe tbody tr th:only-of-type {\n",
       "        vertical-align: middle;\n",
       "    }\n",
       "\n",
       "    .dataframe tbody tr th {\n",
       "        vertical-align: top;\n",
       "    }\n",
       "\n",
       "    .dataframe thead th {\n",
       "        text-align: right;\n",
       "    }\n",
       "</style>\n",
       "<table border=\"1\" class=\"dataframe\">\n",
       "  <thead>\n",
       "    <tr style=\"text-align: right;\">\n",
       "      <th></th>\n",
       "      <th>carat</th>\n",
       "      <th>cut</th>\n",
       "      <th>color</th>\n",
       "      <th>clarity</th>\n",
       "      <th>depth</th>\n",
       "      <th>table</th>\n",
       "      <th>price</th>\n",
       "      <th>x</th>\n",
       "      <th>y</th>\n",
       "      <th>z</th>\n",
       "    </tr>\n",
       "  </thead>\n",
       "  <tbody>\n",
       "    <tr>\n",
       "      <th>0</th>\n",
       "      <td>0.23</td>\n",
       "      <td>2</td>\n",
       "      <td>1</td>\n",
       "      <td>3</td>\n",
       "      <td>61.5</td>\n",
       "      <td>55.0</td>\n",
       "      <td>326</td>\n",
       "      <td>3.95</td>\n",
       "      <td>3.98</td>\n",
       "      <td>2.43</td>\n",
       "    </tr>\n",
       "    <tr>\n",
       "      <th>1</th>\n",
       "      <td>0.21</td>\n",
       "      <td>3</td>\n",
       "      <td>1</td>\n",
       "      <td>2</td>\n",
       "      <td>59.8</td>\n",
       "      <td>61.0</td>\n",
       "      <td>326</td>\n",
       "      <td>3.89</td>\n",
       "      <td>3.84</td>\n",
       "      <td>2.31</td>\n",
       "    </tr>\n",
       "  </tbody>\n",
       "</table>\n",
       "</div>"
      ],
      "text/plain": [
       "   carat  cut  color  clarity  depth  table  price     x     y     z\n",
       "0   0.23    2      1        3   61.5   55.0    326  3.95  3.98  2.43\n",
       "1   0.21    3      1        2   59.8   61.0    326  3.89  3.84  2.31"
      ]
     },
     "execution_count": 5,
     "metadata": {},
     "output_type": "execute_result"
    }
   ],
   "source": [
    "le = LabelEncoder()\n",
    "\n",
    "for col in ['color', 'cut', 'clarity']:\n",
    "    data[col] = le.fit_transform(data[col].values)\n",
    "\n",
    "data.head(2)"
   ]
  },
  {
   "cell_type": "code",
   "execution_count": 6,
   "id": "c325ea59",
   "metadata": {},
   "outputs": [],
   "source": [
    "X, y = data.drop(['price'], axis=1).values, data['price'].values\n",
    "X, y = shuffle(X, y, random_state=42)"
   ]
  },
  {
   "cell_type": "markdown",
   "id": "13e5dac8",
   "metadata": {},
   "source": [
    "Models training and mean accurcy score comparison for given sets of hyperparameters:"
   ]
  },
  {
   "cell_type": "code",
   "execution_count": 7,
   "id": "e42caf81",
   "metadata": {},
   "outputs": [],
   "source": [
    "hyper_params  = {12: 'squared_error',\n",
    "                 16: 'friedman_mse',\n",
    "                 22: 'poisson',\n",
    "                 45: 'squared_error',\n",
    "                 95: 'friedman_mse',\n",
    "                 33: 'poisson'}\n",
    "r2_score = {}\n",
    "\n",
    "for depth, criterion in hyper_params.items():\n",
    "    params = criterion + f', max_depth = {depth}'\n",
    "    \n",
    "    reg_model = DecisionTreeRegressor(criterion=criterion, max_depth=depth, random_state=42)\n",
    "    r2_score[params] = cross_validate(reg_model, X, y, cv=10, scoring='r2')['test_score'].mean().round(5)"
   ]
  },
  {
   "cell_type": "code",
   "execution_count": 8,
   "id": "2e3c4934",
   "metadata": {},
   "outputs": [
    {
     "data": {
      "text/plain": [
       "{'squared_error, max_depth = 12': 0.97438,\n",
       " 'friedman_mse, max_depth = 16': 0.96981,\n",
       " 'poisson, max_depth = 22': 0.96497,\n",
       " 'squared_error, max_depth = 45': 0.96573,\n",
       " 'friedman_mse, max_depth = 95': 0.96573,\n",
       " 'poisson, max_depth = 33': 0.9645}"
      ]
     },
     "execution_count": 8,
     "metadata": {},
     "output_type": "execute_result"
    }
   ],
   "source": [
    "r2_score"
   ]
  }
 ],
 "metadata": {
  "kernelspec": {
   "display_name": "Python 3 (ipykernel)",
   "language": "python",
   "name": "python3"
  },
  "language_info": {
   "codemirror_mode": {
    "name": "ipython",
    "version": 3
   },
   "file_extension": ".py",
   "mimetype": "text/x-python",
   "name": "python",
   "nbconvert_exporter": "python",
   "pygments_lexer": "ipython3",
   "version": "3.8.5"
  }
 },
 "nbformat": 4,
 "nbformat_minor": 5
}
